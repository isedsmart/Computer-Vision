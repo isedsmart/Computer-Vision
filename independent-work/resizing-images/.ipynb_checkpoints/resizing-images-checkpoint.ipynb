{
 "cells": [
  {
   "cell_type": "markdown",
   "metadata": {},
   "source": [
    "After finishing my exploration of rotating images, I'm came across the idea of rescaling (also known as sampling) images. I'm curious as to how one would go about rescaling an image at pixel level. I'm going to attempt to upsample and downsample images."
   ]
  },
  {
   "cell_type": "code",
   "execution_count": 1,
   "metadata": {},
   "outputs": [
    {
     "data": {
      "text/plain": [
       "<Figure size 640x480 with 1 Axes>"
      ]
     },
     "metadata": {},
     "output_type": "display_data"
    }
   ],
   "source": [
    "import cv2\n",
    "import numpy as np\n",
    "import matplotlib.pyplot as plt\n",
    "\n",
    "test_image = cv2.imread(\"../../images/project3/testimage.pgm\")\n",
    "monkey = cv2.imread(\"../../images/project3/demo.pgm\")\n",
    "\n",
    "plt.imshow(test_image)\n",
    "plt.show()"
   ]
  },
  {
   "cell_type": "markdown",
   "metadata": {},
   "source": [
    "I think the idea of padding an image is necessary since I'm going to attempt to enlarge the image."
   ]
  },
  {
   "cell_type": "code",
   "execution_count": 12,
   "metadata": {},
   "outputs": [
    {
     "name": "stdout",
     "output_type": "stream",
     "text": [
      "This is the padded image\n"
     ]
    },
    {
     "data": {
      "image/png": "[encoded data removed]",
      "text/plain": [
       "<Figure size 432x288 with 1 Axes>"
      ]
     },
     "metadata": {
      "needs_background": "light"
     },
     "output_type": "display_data"
    }
   ],
   "source": [
    "def padImg(img):\n",
    "    imageWidth = len(img[0])\n",
    "    imageHeight = len(img)\n",
    "    if imageWidth > imageHeight:\n",
    "        paddedImg = cv2.copyMakeBorder(img, int((imageWidth-imageHeight)/2), int((imageWidth-imageHeight)/2), 0, 0, cv2.BORDER_CONSTANT) # top, bottom, left, right\n",
    "    else:\n",
    "        paddedImg = cv2.copyMakeBorder(img, 0, 0, int((imageHeight-imageWidth)/2), int((imageHeight-imageWidth)/2), cv2.BORDER_CONSTANT)\n",
    "    return paddedImg\n",
    "\n",
    "print('This is the padded image')\n",
    "plt.imshow(padImg(test_image))\n",
    "plt.show()"
   ]
  },
  {
   "cell_type": "code",
   "execution_count": 3,
   "metadata": {},
   "outputs": [
    {
     "name": "stdout",
     "output_type": "stream",
     "text": [
      "If the scale is 1, then it returns the original image\n"
     ]
    },
    {
     "data": {
      "image/png": "[encoded data removed]",
      "text/plain": [
       "<Figure size 432x288 with 1 Axes>"
      ]
     },
     "metadata": {
      "needs_background": "light"
     },
     "output_type": "display_data"
    }
   ],
   "source": [
    "def downsampleImg(img, scale):\n",
    "    imageWidth = len(img[0])\n",
    "    imageHeight = len(img)\n",
    "    paddedimg = padImg(img)\n",
    "#     print(len(paddedimg[0]))\n",
    "#     print(len(paddedimg))\n",
    "    newimg = []\n",
    "    if scale == 0:\n",
    "        return img\n",
    "    else:\n",
    "        for y in range(0, imageHeight, scale):\n",
    "            tempimg = []\n",
    "            for x in range(0, imageWidth, scale):\n",
    "                tempimg.append(img[y][x])\n",
    "            newimg.append(tempimg)\n",
    "        return newimg\n",
    "\n",
    "print('If the scale is 1, then it returns the original image')\n",
    "plt.imshow(downsampleImg(test_image, 1))\n",
    "plt.show()"
   ]
  },
  {
   "cell_type": "markdown",
   "metadata": {},
   "source": [
    "However, if the scale is anything greater than 1, then you will notice that the scale of the image becomes smaller and the shapes that aren't square or rectangle become noticably more \"bloby.\" In other words, this is causing distortions!"
   ]
  },
  {
   "cell_type": "code",
   "execution_count": 4,
   "metadata": {},
   "outputs": [
    {
     "data": {
      "image/png": "[encoded data removed]",
      "text/plain": [
       "<Figure size 432x288 with 1 Axes>"
      ]
     },
     "metadata": {
      "needs_background": "light"
     },
     "output_type": "display_data"
    },
    {
     "data": {
      "image/png": "[encoded data removed]",
      "text/plain": [
       "<Figure size 432x288 with 1 Axes>"
      ]
     },
     "metadata": {
      "needs_background": "light"
     },
     "output_type": "display_data"
    },
    {
     "data": {
      "image/png": "[encoded data removed]",
      "text/plain": [
       "<Figure size 432x288 with 1 Axes>"
      ]
     },
     "metadata": {
      "needs_background": "light"
     },
     "output_type": "display_data"
    }
   ],
   "source": [
    "plt.imshow(downsampleImg(test_image, 5))\n",
    "plt.show()\n",
    "\n",
    "plt.imshow(downsampleImg(test_image, 10))\n",
    "plt.show()\n",
    "\n",
    "plt.imshow(downsampleImg(test_image, 20))\n",
    "plt.show()"
   ]
  },
  {
   "cell_type": "code",
   "execution_count": 1,
   "metadata": {},
   "outputs": [
    {
     "name": "stdout",
     "output_type": "stream",
     "text": [
      "-----Monkey Image-----\n"
     ]
    },
    {
     "ename": "NameError",
     "evalue": "name 'plt' is not defined",
     "output_type": "error",
     "traceback": [
      "\u001b[1;31m---------------------------------------------------------------------------\u001b[0m",
      "\u001b[1;31mNameError\u001b[0m                                 Traceback (most recent call last)",
      "\u001b[1;32m<ipython-input-1-2629dfbfe464>\u001b[0m in \u001b[0;36m<module>\u001b[1;34m\u001b[0m\n\u001b[0;32m      1\u001b[0m \u001b[0mprint\u001b[0m\u001b[1;33m(\u001b[0m\u001b[1;34m'-----Monkey Image-----'\u001b[0m\u001b[1;33m)\u001b[0m\u001b[1;33m\u001b[0m\u001b[1;33m\u001b[0m\u001b[0m\n\u001b[0;32m      2\u001b[0m \u001b[1;33m\u001b[0m\u001b[0m\n\u001b[1;32m----> 3\u001b[1;33m \u001b[0mplt\u001b[0m\u001b[1;33m.\u001b[0m\u001b[0mimshow\u001b[0m\u001b[1;33m(\u001b[0m\u001b[0mdownsampleImg\u001b[0m\u001b[1;33m(\u001b[0m\u001b[0mmonkey\u001b[0m\u001b[1;33m,\u001b[0m \u001b[1;36m1\u001b[0m\u001b[1;33m)\u001b[0m\u001b[1;33m)\u001b[0m\u001b[1;33m\u001b[0m\u001b[1;33m\u001b[0m\u001b[0m\n\u001b[0m\u001b[0;32m      4\u001b[0m \u001b[0mplt\u001b[0m\u001b[1;33m.\u001b[0m\u001b[0mshow\u001b[0m\u001b[1;33m(\u001b[0m\u001b[1;33m)\u001b[0m\u001b[1;33m\u001b[0m\u001b[1;33m\u001b[0m\u001b[0m\n\u001b[0;32m      5\u001b[0m \u001b[1;33m\u001b[0m\u001b[0m\n",
      "\u001b[1;31mNameError\u001b[0m: name 'plt' is not defined"
     ]
    }
   ],
   "source": [
    "print('-----Monkey Image-----')\n",
    "\n",
    "plt.imshow(downsampleImg(monkey, 1))\n",
    "plt.show()\n",
    "\n",
    "plt.imshow(downsampleImg(monkey, 5))\n",
    "plt.show()\n",
    "\n",
    "plt.imshow(downsampleImg(monkey, 10))\n",
    "plt.show()\n",
    "\n",
    "plt.imshow(downsampleImg(monkey, 20))\n",
    "plt.show()"
   ]
  },
  {
   "cell_type": "markdown",
   "metadata": {},
   "source": [
    "The monkey image even more so convinced me that I'm not actually downsampling it. I'm just distorting the image, which makes sense because in the function, I'm just skipping pixels to append in the image in relation to the scale that's given. Therefore I have to find another way to downsample the image.\n",
    "\n",
    "(After thinking about the downsampling for 20 minutes...)\n",
    "\n",
    "Well now that I've given it some more thought, I've realized that I am downsampling the image. It just so happens that when you downsample an image, you also distort it and that makes sense because there's no way to shrink an image without eliminating certain pixels which would cause distortion. Information will be lost when downsampling an image, but that makes me wonder how photo editors are able to make images a smaller dimension without losing clarity in an image...\n",
    "\n",
    "I think what would have to occur in order to properly downsample an image is by eliminating pixels around the image. That's the best way to go about doing it. So I would have to eliminate neighboring pixels in order to minimize damage in clarity of an image."
   ]
  },
  {
   "cell_type": "code",
   "execution_count": 14,
   "metadata": {},
   "outputs": [
    {
     "name": "stdout",
     "output_type": "stream",
     "text": [
      "If the scale is 1, then it returns the original image\n"
     ]
    }
   ],
   "source": [
    "def properdownsampleImg(img, scale):\n",
    "    imageWidth = len(img[0])\n",
    "    imageHeight = len(img)\n",
    "    paddedimg = padImg(img)\n",
    "#     print(len(paddedimg[0]))\n",
    "#     print(len(paddedimg))\n",
    "    newimg = []\n",
    "    if scale == 0:\n",
    "        return img\n",
    "    else:\n",
    "        for y in range(0, imageHeight-1, scale):\n",
    "            tempimg = []\n",
    "            for x in range(0, imageWidth-1, scale):\n",
    "                if img[y][x].any() != img[y][x-1].any():\n",
    "                    img[y][x-1] = img[y][x]\n",
    "                elif img[y][x].any() != img[y+1][x-1].any():\n",
    "                    img[y+1][x-1] = img[y][x]\n",
    "                elif img[y][x].any() != img[y+1][x].any():\n",
    "                    img[y+1][x] = img[y][x]\n",
    "                elif img[y][x].any() != img[y+1][x+1].any():\n",
    "                    img[y+1][x+1] = img[y][x]\n",
    "                elif img[y][x].any() != img[y][x+1].any():\n",
    "                    img[y][x+1] = img[y][x]\n",
    "                elif img[y][x].any() != img[y-1][x+1].any():\n",
    "                    img[y-1][x+1] = img[y][x]\n",
    "                elif img[y][x].any() != img[y-1][x].any():\n",
    "                    img[y-1][x] = img[y][x]\n",
    "                elif img[y][x].any() != img[y-1][x-1].any():\n",
    "                    img[y-1][x-1] = img[y][x]\n",
    "                else:\n",
    "                    tempimg.append(img[y][x])\n",
    "            newimg.append(tempimg)\n",
    "        return newimg\n",
    "\n",
    "print('If the scale is 1, then it returns the original image') \n",
    "# An error suddenly popped up even though it was working completely fine. I didn't change anything...\n",
    "\n",
    "# plt.imshow(properdownsampleImg(test_image, 3))\n",
    "# plt.show()"
   ]
  },
  {
   "cell_type": "markdown",
   "metadata": {},
   "source": [
    "My intention with my proper downsample image function is to be able to eliminate neighboring pixels if it's not the same as the pixel that's currently being looked at. With that concept of idea, it should be able to downsample the image without removing clarity of the image. But instead it's turning every pixel into the pixel at the orgin which is white because I'm checking every neighboring pixel 4 times (with the pixels above, below, to the left and right of the current one being looked at). I need to find a way to be able to skip pixels after checking their neighbors so that it doesn't quadrouple check and turn it into the color of the pixel at the origin of the image. "
   ]
  },
  {
   "cell_type": "markdown",
   "metadata": {},
   "source": [
    "Of course, with me exploring downsampling, I'm wondering if there's a way to upsample the image. If my idea of how to downsample images is correct, then if I do the opposite of it (adding neighboring pixels around the current pixel) then it should be able enlarge the image."
   ]
  },
  {
   "cell_type": "code",
   "execution_count": 13,
   "metadata": {},
   "outputs": [
    {
     "name": "stdout",
     "output_type": "stream",
     "text": [
      "If the scale is 1, then it returns the original image\n"
     ]
    },
    {
     "data": {
      "image/png": "[encoded data removed]",
      "text/plain": [
       "<Figure size 432x288 with 1 Axes>"
      ]
     },
     "metadata": {
      "needs_background": "light"
     },
     "output_type": "display_data"
    }
   ],
   "source": [
    "def upsampleImg(img, scale):\n",
    "    imageWidth = len(img[0])\n",
    "    imageHeight = len(img)\n",
    "    paddedimg = padImg(img)\n",
    "#     print(len(paddedimg[0]))\n",
    "#     print(len(paddedimg))\n",
    "    newimg = []\n",
    "    if scale == 0:\n",
    "        return img\n",
    "    else:\n",
    "        for y in range(0, imageHeight):\n",
    "            tempimg = []\n",
    "            for x in range(0, imageWidth):\n",
    "                tempimg.append(paddedimg[y][x])\n",
    "            newimg.append(tempimg)\n",
    "        return newimg\n",
    "\n",
    "print('If the scale is 1, then it returns the original image')\n",
    "plt.imshow(upsampleImg(test_image, 1))\n",
    "plt.show()"
   ]
  },
  {
   "cell_type": "markdown",
   "metadata": {},
   "source": [
    "### Conclusion\n",
    "\n",
    "In conclusion, I think this side project was fun. It definitely got me thinking about how exactly photo editors are able to enlarge photos without losing clarity to an image. I also was not expecting for resizing an image to be this difficult because all that's happening is the image is either getting bigger or smaller and I thought that my initial solution to it was the answer, but it distorts it.\n",
    "\n",
    "I know that there's Python's Image Library (https://www.geeksforgeeks.org/python-pil-image-resize-method/), which gives Python image editing capabilities, but I wanted to figure out if I could do it from scratch or something similar.\n",
    "\n",
    "I was also expecting for rotating images to be harder than resizing an image, but I am very wrong. I think it's harder to try to implement pixels in an already existing image than to just simply rotate an image. If I had more time, I would probably be able to figure out a correct way to do it."
   ]
  },
  {
   "cell_type": "code",
   "execution_count": null,
   "metadata": {},
   "outputs": [],
   "source": []
  }
 ],
 "metadata": {
  "kernelspec": {
   "display_name": "Python 3",
   "language": "python",
   "name": "python3"
  },
  "language_info": {
   "codemirror_mode": {
    "name": "ipython",
    "version": 3
   },
   "file_extension": ".py",
   "mimetype": "text/x-python",
   "name": "python",
   "nbconvert_exporter": "python",
   "pygments_lexer": "ipython3",
   "version": "3.7.3"
  }
 },
 "nbformat": 4,
 "nbformat_minor": 4
}
