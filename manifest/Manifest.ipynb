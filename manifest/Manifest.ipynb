{
 "cells": [
  {
   "cell_type": "markdown",
   "metadata": {},
   "source": [
    "## Portfolio\n"
   ]
  },
  {
   "cell_type": "markdown",
   "metadata": {},
   "source": [
    "###### Table of Contents:\n",
    "\n",
    "Projects:\n",
    "    \n",
    "This is where all of my projects will be shown\n",
    "\n",
    "Independent Works/Supplements/Side Hussles:\n",
    "   \n",
    "This is where my independent works will be shown"
   ]
  },
  {
   "cell_type": "markdown",
   "metadata": {},
   "source": [
    "#### Projects:\n",
    "\n",
    "Project 1:\n",
    "\n",
    "Here is a link to [Project 1](../project1/project1.ipynb)\n",
    "\n",
    "Date of last revision: Sept 23, 2019 - 6:41pm\n",
    "\n",
    "Reflection: Project 1 was a good introduction to the course's level of difficulty and of the overall general idea of computer vision concepts that would be utilized later on. However, I felt that it definitely was not easy. I had to ask a lot of help from my peers. And the instructions to some of the prompts and objectives throughout Project 1 was poorly written. I think there was a lot of ambigity that confused me and a few of my classmates when we tried working it out together. We fell into disagreements with what we thought you expected of us in some of the prompts such as \"separating the colors out\" or the \"Histogram Generation and Normalization.\"\n",
    "\n",
    "Project 2:\n",
    "\n",
    "Here is a link to [Project 2](../project2/proj2.ipynb)\n",
    "\n",
    "Date of last revision: Oct 7, 2019 - 7:07pm\n",
    "\n",
    "Reflection: Project 2 was definitely the hardest project out of all of them. I couldn't figure out how to correctly execute convolution in code from scratch. I tried many different methods of convolving the image, but none of them seemed to work. Maybe it was because I didn't fully understand what convolving a kernel over an image meant.\n",
    "\n",
    "Project 3A: \n",
    "\n",
    "Here is a link to [Project 3A](../project3/Project3A.ipynb)\n",
    "\n",
    "Date of last revision: Oct 10, 2019 - 2:15pm\n",
    "\n",
    "Reflection: Project 3A was hard, but after receiving some help from collueges I was able to get it. I did spend a long time trying to figure out how to properly get the theta and rho values to work in the function. It was not easy. At times it was very frustrating.\n",
    "\n",
    "Project 3B:\n",
    "\n",
    "Here is a link to [Project 3B](../project3/Project3B.ipynb)\n",
    "\n",
    "Date of last revision: Oct 14, 2019 - 8:00pm\n",
    "\n",
    "Reflection: Project 3B was definitely a struggle for me. However, that being said, I did managed to persist through it and get the results that I wanted. In my view, 3A was harder than 3B just because I didn't struggle as much with Non-maximal suppression and setting the thresholds. (Maybe because I understood the content better).\n",
    "\n",
    "Project 4:\n",
    "\n",
    "Here is a link to [Project 4](../project4/Project-4-Harris.ipynb)\n",
    "\n",
    "Date of last revision: Oct 21, 2019 - 10:27pm\n",
    "\n",
    "Reflection: I think it's safe to say that I understood Project 4 the best - not the math portion of it, but more like what I needed to do. The instructions of what needed to be done was clear to me. So I didn't struggle as much with understanding the content like with many of the other projects. I also had a fair understanding of how I was going to go about writing SuppressNonMax in code. I had one overall attempt and I was able to make good progress in that one session of coding it. Then afterwards I made some tweaks and was able to get it working completely.\n",
    "\n",
    "Project 5:\n",
    "\n",
    "Here is a link to [Project 5](../project-5/code/proj5.ipynb)\n",
    "\n",
    "Date of last revision: Nov 7, 2019 - 12:30pm\n",
    "\n",
    "Reflection: Project 5 was one of the hardest projects out of all of them. I struggled a lot with trying to figure out how to get the patches function working correctly - how to even go about writing it. It took me several hours to finally get it working. Feature matching was also very difficult for me. My groupmates and I were having a very hard time trying to figure out how to code that one. Even though it was the job of my groupmates to complete that file, I put in a ton of hours to get it to work. This project was one of the most frustrating ones that we had to do. \n",
    "\n",
    "Final Project:\n",
    "\n",
    "Here is a link to [Final Project](../FinalProject/FinalProject.ipynb)\n",
    "\n",
    "Date of last revision: Nov 26, 2019 - 2:55pm\n",
    "\n",
    "Reflection: Overall this project was interesting and very frustrating at the same time. It's very unclear as to how to go about finding and identifying the planaria with a bunch of noise in the image.\n",
    "\n",
    "##### Overall thoughts:\n",
    "\n",
    "As I find many CS courses, they tend to frustrate me a ton and this class was definitely no exception. This was one of the hardest classes I've ever taken in terms of pure content and concepts that I had to try to understand and wrap my head around. Regardless, I did enjoy the class and the concepts that were discussed. I found them very interesting and relevent to today's world, but again, it was difficult for me to feel confident in doing the work correctly and effectively. I thought the articles, morals and ethics discussed were very interesting. I thoroughly enjoyed discussing the pros and cons of the moral and ethical situations that big tech companies are doing with their knowledge and expertise of computer vision. What I didn't enjoy so much was reading the research papers about computer vision concepts and such. I found them to be a little boring and uninteresting since they were really dense and I don't particularly enjoy reading papers that involve a lot of math. \n",
    "\n",
    "What made this class very difficult - much more difficult than other CS classes is understanding the concepts that were being taught. I view CS as a two way battle; the first battle is understanding the concept and the second battle is writing that concept in code, which usually either confirms or denies my understanding of the concept. For this class, I struggled with understanding concepts and therefore made it extremely difficult to write the concept in code. Obviously, this is a trivial thing that every coder knows, but I think it's worth mentioning and being aware of (even for myself) so that I can try to improve future work in coding."
   ]
  },
  {
   "cell_type": "markdown",
   "metadata": {},
   "source": [
    "#### Independent Work:\n",
    "\n",
    "Here is a link to [Rotation-of-Images](../independent-work/rotation-of-images/rotation-of-images.ipynb)\n",
    "\n",
    "The work speaks for itself in the notebook. I think you'll really enjoy the journey that I take you through for me trying to figure out how to rotate images.\n",
    "\n",
    "Here is a link to [resizing-images](../independent-work/resizing-images/resizing-images.ipynb)\n",
    "\n",
    "The same thing could be said here as above. The notebook speaks for itself and it takes you on a journey of where I'm at now.\n",
    "\n",
    "Here is a link to my exploration in my senior project involving [KNN](../independent-work/KNN/KNN.py)\n",
    "\n",
    "I don't have a notebook for this because this is for my senior project, but I thought I'd add this to my portfolio since it is somewhat related. I'll explain what I'm doing here since I don't have a notebook for it, but basically I'm going to use KNN to classify objects in images. I plan on using SIFT or any other type of feature extraction method to determine what features I want to use for the KNN model and I will feed a dataset into it so that it can learn what is what. I already have a dataset called TrashNet, which was posted online on Git. I think this could be very interesting.\n"
   ]
  },
  {
   "cell_type": "markdown",
   "metadata": {},
   "source": [
    "#### Closing thoughts about the Portfolio:\n",
    "\n",
    "I think the idea of having a portfolio for the class was great since we get the chance to explore our own interests and ideas in computer vision. One critique that I have is that I think many of us wished we had more time to explore our portfolio so that we could really dive deeper into our interests. I think the projects were very difficult and time consuming to the point where if I had more time to work on the portfolio, I could get a lot more done and it would be more enjoyable for me as well.  "
   ]
  },
  {
   "cell_type": "code",
   "execution_count": null,
   "metadata": {},
   "outputs": [],
   "source": []
  }
 ],
 "metadata": {
  "kernelspec": {
   "display_name": "Python 3",
   "language": "python",
   "name": "python3"
  },
  "language_info": {
   "codemirror_mode": {
    "name": "ipython",
    "version": 3
   },
   "file_extension": ".py",
   "mimetype": "text/x-python",
   "name": "python",
   "nbconvert_exporter": "python",
   "pygments_lexer": "ipython3",
   "version": "3.7.3"
  }
 },
 "nbformat": 4,
 "nbformat_minor": 4
}
